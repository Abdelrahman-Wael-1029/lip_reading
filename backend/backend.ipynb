{
 "cells": [
  {
   "cell_type": "code",
   "execution_count": 4,
   "metadata": {
    "execution": {
     "iopub.execute_input": "2025-06-16T19:04:48.177300Z",
     "iopub.status.busy": "2025-06-16T19:04:48.176993Z",
     "iopub.status.idle": "2025-06-16T19:04:48.192659Z",
     "shell.execute_reply": "2025-06-16T19:04:48.191385Z",
     "shell.execute_reply.started": "2025-06-16T19:04:48.177270Z"
    },
    "trusted": true
   },
   "outputs": [
    {
     "name": "stdout",
     "output_type": "stream",
     "text": [
      "Overwriting main.py\n"
     ]
    }
   ],
   "source": [
    "%%writefile main.py\n",
    "from fastapi import FastAPI, File, UploadFile\n",
    "from fastapi.responses import JSONResponse\n",
    "import shutil\n",
    "import os\n",
    "\n",
    "app = FastAPI()\n",
    "\n",
    "def transcribe_video(video_path: str) -> str:\n",
    "    # Dummy implementation — replace with actual inference logic\n",
    "    return f\"Transcript of {video_path}\"\n",
    "\n",
    "@app.post(\"/transcribe/\")\n",
    "async def transcribe(file: UploadFile = File(...)):\n",
    "    original_name = file.filename\n",
    "    save_name = original_name\n",
    "    base, ext = os.path.splitext(original_name)\n",
    "    counter = 1\n",
    "\n",
    "    # Check if file already exists and rename if needed\n",
    "    while os.path.exists(save_name):\n",
    "        save_name = f\"{base}_{counter}{ext}\"\n",
    "        counter += 1\n",
    "\n",
    "    # Save the uploaded file\n",
    "    with open(save_name, \"wb\") as buffer:\n",
    "        shutil.copyfileobj(file.file, buffer)\n",
    "\n",
    "    try:\n",
    "        transcript = transcribe_video(save_name)\n",
    "    except Exception as e:\n",
    "        return JSONResponse(content={\"error\": str(e)}, status_code=500)\n",
    "\n",
    "    return JSONResponse(content={\"transcript\": transcript})"
   ]
  },
  {
   "cell_type": "code",
   "execution_count": null,
   "metadata": {
    "execution": {
     "iopub.execute_input": "2025-06-16T19:04:49.334368Z",
     "iopub.status.busy": "2025-06-16T19:04:49.333344Z",
     "iopub.status.idle": "2025-06-16T19:04:53.455455Z",
     "shell.execute_reply": "2025-06-16T19:04:53.453874Z",
     "shell.execute_reply.started": "2025-06-16T19:04:49.334331Z"
    },
    "trusted": true
   },
   "outputs": [
    {
     "name": "stdout",
     "output_type": "stream",
     "text": [
      "Downloading ngrok ...\r"
     ]
    },
    {
     "name": "stderr",
     "output_type": "stream",
     "text": [
      "\n",
      "[notice] A new release of pip is available: 24.0 -> 25.1.1\n",
      "[notice] To update, run: python.exe -m pip install --upgrade pip\n"
     ]
    },
    {
     "name": "stdout",
     "output_type": "stream",
     "text": [
      "🔗 FastAPI is running at: NgrokTunnel: \"https://2fc7-102-47-249-61.ngrok-free.app\" -> \"http://localhost:8000\"\n"
     ]
    },
    {
     "name": "stderr",
     "output_type": "stream",
     "text": [
      "INFO:     Started server process [18660]\n",
      "INFO:     Waiting for application startup.\n",
      "INFO:     Application startup complete.\n",
      "INFO:     Uvicorn running on http://0.0.0.0:8000 (Press CTRL+C to quit)\n"
     ]
    }
   ],
   "source": [
    "!pip install -q fastapi uvicorn python-multipart pyngrok\n",
    "    \n",
    "from pyngrok import ngrok\n",
    "import uvicorn\n",
    "import threading\n",
    "\n",
    "# 🔑 Paste your token here\n",
    "NGROK_AUTH_TOKEN = \"2ybOmtOx1i205x0jmChGVrN2Ksq_2PmwHwzNWPNkLpe4TJXn6\"\n",
    "ngrok.set_auth_token(NGROK_AUTH_TOKEN)\n",
    "\n",
    "# 📡 Open the tunnel to port 8000\n",
    "public_url = ngrok.connect(8000)\n",
    "print(f\"🔗 FastAPI is running at: {public_url}\")\n",
    "\n",
    "# 🏃 Run FastAPI in the background\n",
    "def run_api():\n",
    "    uvicorn.run(\"main:app\", host=\"0.0.0.0\", port=8000)\n",
    "\n",
    "threading.Thread(target=run_api).start()"
   ]
  },
  {
   "cell_type": "code",
   "execution_count": null,
   "metadata": {},
   "outputs": [],
   "source": []
  }
 ],
 "metadata": {
  "kaggle": {
   "accelerator": "none",
   "dataSources": [],
   "dockerImageVersionId": 31040,
   "isGpuEnabled": false,
   "isInternetEnabled": true,
   "language": "python",
   "sourceType": "notebook"
  },
  "kernelspec": {
   "display_name": "Python 3",
   "language": "python",
   "name": "python3"
  },
  "language_info": {
   "codemirror_mode": {
    "name": "ipython",
    "version": 3
   },
   "file_extension": ".py",
   "mimetype": "text/x-python",
   "name": "python",
   "nbconvert_exporter": "python",
   "pygments_lexer": "ipython3",
   "version": "3.12.3"
  }
 },
 "nbformat": 4,
 "nbformat_minor": 4
}
